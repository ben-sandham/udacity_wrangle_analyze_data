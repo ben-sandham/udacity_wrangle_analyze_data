{
 "cells": [
  {
   "cell_type": "markdown",
   "metadata": {},
   "source": [
    "# WeRateDogs is in the Twitter Doghouse\n",
    "\n",
    "WeRateDogs (@dog_rates) boasts 8.9 million followers, a hefty number indeed. Here, we examine the account activity of WeRateDogs for the period of the dataset, and examine the relationship between retweets and favorites."
   ]
  },
  {
   "cell_type": "code",
   "execution_count": 145,
   "metadata": {},
   "outputs": [
    {
     "data": {
      "text/html": [
       "<img src=\"https://pbs.twimg.com/media/CT4udn0WwAA0aMy.jpg\" width=\"600\" height=\"400\"/>"
      ],
      "text/plain": [
       "<IPython.core.display.Image object>"
      ]
     },
     "execution_count": 145,
     "metadata": {},
     "output_type": "execute_result"
    }
   ],
   "source": [
    "Image(url=image_pred_df.jpg_url[0], width=600, height=400)"
   ]
  },
  {
   "cell_type": "code",
   "execution_count": null,
   "metadata": {},
   "outputs": [],
   "source": [
    "<div>Image(url=image_pred_df.jpg_url[0], width=600, height=400, align)</div"
   ]
  },
  {
   "cell_type": "markdown",
   "metadata": {},
   "source": [
    "### Import Libraries"
   ]
  },
  {
   "cell_type": "code",
   "execution_count": 137,
   "metadata": {},
   "outputs": [],
   "source": [
    "import matplotlib.pyplot as plt\n",
    "import matplotlib as mpl\n",
    "from IPython.display import Image"
   ]
  },
  {
   "cell_type": "markdown",
   "metadata": {},
   "source": [
    "## Visualizing Data"
   ]
  },
  {
   "cell_type": "markdown",
   "metadata": {},
   "source": [
    "In this section we will visualize the cleaned dataset and examine the following:\n",
    "1. How did the monthly number of tweets on WeRateDogs change over time?\n",
    "2. What is the relationship between retweets and favorites?"
   ]
  },
  {
   "cell_type": "code",
   "execution_count": 166,
   "metadata": {},
   "outputs": [
    {
     "name": "stdout",
     "output_type": "stream",
     "text": [
      "<class 'pandas.core.frame.DataFrame'>\n",
      "DatetimeIndex: 2356 entries, 2017-08-01 16:23:56+00:00 to 2015-11-15 22:32:08+00:00\n",
      "Data columns (total 9 columns):\n",
      " #   Column              Non-Null Count  Dtype  \n",
      "---  ------              --------------  -----  \n",
      " 0   tweet_id            2356 non-null   int64  \n",
      " 1   source              2356 non-null   object \n",
      " 2   text                2356 non-null   object \n",
      " 3   rating_numerator    2356 non-null   int64  \n",
      " 4   rating_denominator  2356 non-null   int64  \n",
      " 5   name                2286 non-null   object \n",
      " 6   retweet_count       877 non-null    float64\n",
      " 7   favorite_count      877 non-null    float64\n",
      " 8   dogtionary          399 non-null    object \n",
      "dtypes: float64(2), int64(3), object(4)\n",
      "memory usage: 184.1+ KB\n"
     ]
    }
   ],
   "source": [
    "# import archive master as df\n",
    "df = pd.read_csv('twitter_archive_master.csv')\n",
    "df['timestamp'] = pd.to_datetime(df['timestamp'])\n",
    "df.set_index('timestamp', inplace=True)\n",
    "df.info()\n",
    "\n",
    "# import image predictions\n",
    "image_pred_df = pd.read_csv('image_predictions.tsv', sep = '\\t')"
   ]
  },
  {
   "cell_type": "markdown",
   "metadata": {},
   "source": [
    "### Tweets Over Time"
   ]
  },
  {
   "cell_type": "code",
   "execution_count": 132,
   "metadata": {},
   "outputs": [
    {
     "data": {
      "text/html": [
       "<div>\n",
       "<style scoped>\n",
       "    .dataframe tbody tr th:only-of-type {\n",
       "        vertical-align: middle;\n",
       "    }\n",
       "\n",
       "    .dataframe tbody tr th {\n",
       "        vertical-align: top;\n",
       "    }\n",
       "\n",
       "    .dataframe thead th {\n",
       "        text-align: right;\n",
       "    }\n",
       "</style>\n",
       "<table border=\"1\" class=\"dataframe\">\n",
       "  <thead>\n",
       "    <tr style=\"text-align: right;\">\n",
       "      <th></th>\n",
       "      <th>monthly_count</th>\n",
       "    </tr>\n",
       "    <tr>\n",
       "      <th>timestamp</th>\n",
       "      <th></th>\n",
       "    </tr>\n",
       "  </thead>\n",
       "  <tbody>\n",
       "    <tr>\n",
       "      <th>2015-11-30 00:00:00+00:00</th>\n",
       "      <td>302</td>\n",
       "    </tr>\n",
       "    <tr>\n",
       "      <th>2015-12-31 00:00:00+00:00</th>\n",
       "      <td>388</td>\n",
       "    </tr>\n",
       "    <tr>\n",
       "      <th>2016-01-31 00:00:00+00:00</th>\n",
       "      <td>194</td>\n",
       "    </tr>\n",
       "    <tr>\n",
       "      <th>2016-02-29 00:00:00+00:00</th>\n",
       "      <td>125</td>\n",
       "    </tr>\n",
       "    <tr>\n",
       "      <th>2016-03-31 00:00:00+00:00</th>\n",
       "      <td>137</td>\n",
       "    </tr>\n",
       "  </tbody>\n",
       "</table>\n",
       "</div>"
      ],
      "text/plain": [
       "                           monthly_count\n",
       "timestamp                               \n",
       "2015-11-30 00:00:00+00:00            302\n",
       "2015-12-31 00:00:00+00:00            388\n",
       "2016-01-31 00:00:00+00:00            194\n",
       "2016-02-29 00:00:00+00:00            125\n",
       "2016-03-31 00:00:00+00:00            137"
      ]
     },
     "execution_count": 132,
     "metadata": {},
     "output_type": "execute_result"
    }
   ],
   "source": [
    "# Create copy of df\n",
    "monthly_tweets = df.groupby(pd.Grouper(level='timestamp', freq=\"M\")).count().reset_index()\n",
    "monthly_tweets = monthly_tweets[['timestamp','tweet_id']]\n",
    "monthly_tweets.rename(columns={'tweet_id':'monthly_count'},inplace=True)\n",
    "monthly_tweets.set_index('timestamp',inplace=True)\n",
    "monthly_tweets.head()"
   ]
  },
  {
   "cell_type": "code",
   "execution_count": 133,
   "metadata": {},
   "outputs": [
    {
     "data": {
      "image/png": "[encoded data removed]",
      "text/plain": [
       "<Figure size 720x576 with 1 Axes>"
      ]
     },
     "metadata": {
      "needs_background": "light"
     },
     "output_type": "display_data"
    }
   ],
   "source": [
    "# Plot tweets by month\n",
    "monthly_tweets.plot(figsize=(10,8), \n",
    "                   title='@WeRateDogs Tweet Count by Month',\n",
    "                   xlabel='Date',\n",
    "                   ylabel='Count',\n",
    "                   legend=False);"
   ]
  },
  {
   "cell_type": "code",
   "execution_count": 134,
   "metadata": {},
   "outputs": [
    {
     "data": {
      "text/html": [
       "<style  type=\"text/css\" >\n",
       "#T_5e73b_row21_col0{\n",
       "            background-color:  yellow;\n",
       "        }</style><table id=\"T_5e73b_\" ><thead>    <tr>        <th class=\"blank level0\" ></th>        <th class=\"col_heading level0 col0\" >monthly_count</th>    </tr>    <tr>        <th class=\"index_name level0\" >timestamp</th>        <th class=\"blank\" ></th>    </tr></thead><tbody>\n",
       "                <tr>\n",
       "                        <th id=\"T_5e73b_level0_row0\" class=\"row_heading level0 row0\" >2015-11-30 00:00:00+00:00</th>\n",
       "                        <td id=\"T_5e73b_row0_col0\" class=\"data row0 col0\" >nan%</td>\n",
       "            </tr>\n",
       "            <tr>\n",
       "                        <th id=\"T_5e73b_level0_row1\" class=\"row_heading level0 row1\" >2015-12-31 00:00:00+00:00</th>\n",
       "                        <td id=\"T_5e73b_row1_col0\" class=\"data row1 col0\" >28.48%</td>\n",
       "            </tr>\n",
       "            <tr>\n",
       "                        <th id=\"T_5e73b_level0_row2\" class=\"row_heading level0 row2\" >2016-01-31 00:00:00+00:00</th>\n",
       "                        <td id=\"T_5e73b_row2_col0\" class=\"data row2 col0\" >-50.00%</td>\n",
       "            </tr>\n",
       "            <tr>\n",
       "                        <th id=\"T_5e73b_level0_row3\" class=\"row_heading level0 row3\" >2016-02-29 00:00:00+00:00</th>\n",
       "                        <td id=\"T_5e73b_row3_col0\" class=\"data row3 col0\" >-35.57%</td>\n",
       "            </tr>\n",
       "            <tr>\n",
       "                        <th id=\"T_5e73b_level0_row4\" class=\"row_heading level0 row4\" >2016-03-31 00:00:00+00:00</th>\n",
       "                        <td id=\"T_5e73b_row4_col0\" class=\"data row4 col0\" >9.60%</td>\n",
       "            </tr>\n",
       "            <tr>\n",
       "                        <th id=\"T_5e73b_level0_row5\" class=\"row_heading level0 row5\" >2016-04-30 00:00:00+00:00</th>\n",
       "                        <td id=\"T_5e73b_row5_col0\" class=\"data row5 col0\" >-56.20%</td>\n",
       "            </tr>\n",
       "            <tr>\n",
       "                        <th id=\"T_5e73b_level0_row6\" class=\"row_heading level0 row6\" >2016-05-31 00:00:00+00:00</th>\n",
       "                        <td id=\"T_5e73b_row6_col0\" class=\"data row6 col0\" >0.00%</td>\n",
       "            </tr>\n",
       "            <tr>\n",
       "                        <th id=\"T_5e73b_level0_row7\" class=\"row_heading level0 row7\" >2016-06-30 00:00:00+00:00</th>\n",
       "                        <td id=\"T_5e73b_row7_col0\" class=\"data row7 col0\" >61.67%</td>\n",
       "            </tr>\n",
       "            <tr>\n",
       "                        <th id=\"T_5e73b_level0_row8\" class=\"row_heading level0 row8\" >2016-07-31 00:00:00+00:00</th>\n",
       "                        <td id=\"T_5e73b_row8_col0\" class=\"data row8 col0\" >8.25%</td>\n",
       "            </tr>\n",
       "            <tr>\n",
       "                        <th id=\"T_5e73b_level0_row9\" class=\"row_heading level0 row9\" >2016-08-31 00:00:00+00:00</th>\n",
       "                        <td id=\"T_5e73b_row9_col0\" class=\"data row9 col0\" >-28.57%</td>\n",
       "            </tr>\n",
       "            <tr>\n",
       "                        <th id=\"T_5e73b_level0_row10\" class=\"row_heading level0 row10\" >2016-09-30 00:00:00+00:00</th>\n",
       "                        <td id=\"T_5e73b_row10_col0\" class=\"data row10 col0\" >12.00%</td>\n",
       "            </tr>\n",
       "            <tr>\n",
       "                        <th id=\"T_5e73b_level0_row11\" class=\"row_heading level0 row11\" >2016-10-31 00:00:00+00:00</th>\n",
       "                        <td id=\"T_5e73b_row11_col0\" class=\"data row11 col0\" >4.76%</td>\n",
       "            </tr>\n",
       "            <tr>\n",
       "                        <th id=\"T_5e73b_level0_row12\" class=\"row_heading level0 row12\" >2016-11-30 00:00:00+00:00</th>\n",
       "                        <td id=\"T_5e73b_row12_col0\" class=\"data row12 col0\" >0.00%</td>\n",
       "            </tr>\n",
       "            <tr>\n",
       "                        <th id=\"T_5e73b_level0_row13\" class=\"row_heading level0 row13\" >2016-12-31 00:00:00+00:00</th>\n",
       "                        <td id=\"T_5e73b_row13_col0\" class=\"data row13 col0\" >-20.45%</td>\n",
       "            </tr>\n",
       "            <tr>\n",
       "                        <th id=\"T_5e73b_level0_row14\" class=\"row_heading level0 row14\" >2017-01-31 00:00:00+00:00</th>\n",
       "                        <td id=\"T_5e73b_row14_col0\" class=\"data row14 col0\" >34.29%</td>\n",
       "            </tr>\n",
       "            <tr>\n",
       "                        <th id=\"T_5e73b_level0_row15\" class=\"row_heading level0 row15\" >2017-02-28 00:00:00+00:00</th>\n",
       "                        <td id=\"T_5e73b_row15_col0\" class=\"data row15 col0\" >-6.38%</td>\n",
       "            </tr>\n",
       "            <tr>\n",
       "                        <th id=\"T_5e73b_level0_row16\" class=\"row_heading level0 row16\" >2017-03-31 00:00:00+00:00</th>\n",
       "                        <td id=\"T_5e73b_row16_col0\" class=\"data row16 col0\" >-22.73%</td>\n",
       "            </tr>\n",
       "            <tr>\n",
       "                        <th id=\"T_5e73b_level0_row17\" class=\"row_heading level0 row17\" >2017-04-30 00:00:00+00:00</th>\n",
       "                        <td id=\"T_5e73b_row17_col0\" class=\"data row17 col0\" >-11.76%</td>\n",
       "            </tr>\n",
       "            <tr>\n",
       "                        <th id=\"T_5e73b_level0_row18\" class=\"row_heading level0 row18\" >2017-05-31 00:00:00+00:00</th>\n",
       "                        <td id=\"T_5e73b_row18_col0\" class=\"data row18 col0\" >-6.67%</td>\n",
       "            </tr>\n",
       "            <tr>\n",
       "                        <th id=\"T_5e73b_level0_row19\" class=\"row_heading level0 row19\" >2017-06-30 00:00:00+00:00</th>\n",
       "                        <td id=\"T_5e73b_row19_col0\" class=\"data row19 col0\" >5.36%</td>\n",
       "            </tr>\n",
       "            <tr>\n",
       "                        <th id=\"T_5e73b_level0_row20\" class=\"row_heading level0 row20\" >2017-07-31 00:00:00+00:00</th>\n",
       "                        <td id=\"T_5e73b_row20_col0\" class=\"data row20 col0\" >-5.08%</td>\n",
       "            </tr>\n",
       "            <tr>\n",
       "                        <th id=\"T_5e73b_level0_row21\" class=\"row_heading level0 row21\" >2017-08-31 00:00:00+00:00</th>\n",
       "                        <td id=\"T_5e73b_row21_col0\" class=\"data row21 col0\" >-96.43%</td>\n",
       "            </tr>\n",
       "    </tbody></table>"
      ],
      "text/plain": [
       "<pandas.io.formats.style.Styler at 0x120ad7a7b80>"
      ]
     },
     "execution_count": 134,
     "metadata": {},
     "output_type": "execute_result"
    }
   ],
   "source": [
    "pct_changes = monthly_tweets.pct_change()\n",
    "pct_changes.style.format(\"{:.2%}\").highlight_min()"
   ]
  },
  {
   "cell_type": "markdown",
   "metadata": {},
   "source": [
    "Over the course of the period, the tweet count for the @WeRateDogs account decliined significantly over the period of 2015 to 2017. In the last two months of 2015, the account's tweet count was on the rise, achieving an all time high for the period in December with 388 tweets. However, this sharply contrasts with the account's activity in the following months.\n",
    "\n",
    "The account had two consecutive months of decreased activity, falling 50% and ~36% in January and February of 2016 respectively. This was followed by an increase in activity in March, but the account would come nowhere near the all-time highs it achieved again. "
   ]
  },
  {
   "cell_type": "markdown",
   "metadata": {},
   "source": [
    "### Retweet and Favorites"
   ]
  },
  {
   "cell_type": "markdown",
   "metadata": {},
   "source": [
    "On Twitter, favorites serve as an effective proxy for user engagement and preferences. However, the reach of online content is ultimately more enhanced by retweets. With retweets, an account's activity can increase the impressions a tweet has by several orders of magnitude. "
   ]
  },
  {
   "cell_type": "code",
   "execution_count": 179,
   "metadata": {},
   "outputs": [],
   "source": [
    "# Groupby name and select records with RTs and favorite count information\n",
    "RT_Fav = df[df[['retweet_count','favorite_count']].isna().any(1) == False] # select records where RTs and favorites not empty\n",
    "RT_Fav = RT_Fav[RT_Fav['favorite_count'] != 0] # remove retweets only"
   ]
  },
  {
   "cell_type": "code",
   "execution_count": 180,
   "metadata": {},
   "outputs": [
    {
     "name": "stdout",
     "output_type": "stream",
     "text": [
      "y=2.582831x+5246.972541\n"
     ]
    },
    {
     "data": {
      "image/png": "[encoded data removed]",
      "text/plain": [
       "<Figure size 720x576 with 1 Axes>"
      ]
     },
     "metadata": {
      "needs_background": "light"
     },
     "output_type": "display_data"
    }
   ],
   "source": [
    "ax = RT_Fav.plot.scatter(x='retweet_count', \n",
    "                                y='favorite_count',\n",
    "                                title='Retweets and Favorites',\n",
    "                                xlabel='Retweets',\n",
    "                                ylabel='Favorites',\n",
    "                                xlim=(0,60000),\n",
    "                               ylim=(0,200000),\n",
    "                               figsize=(10,8))\n",
    "\n",
    "ax.ticklabel_format(style='plain') # change scientific formatting to plain\n",
    "# ax.get_yaxis().set_major_formatter(mpl.ticker.StrMethodFormatter('{x:,.0f}')) # format y-axis labels\n",
    "# ax.get_xaxis().set_major_formatter(mpl.ticker.StrMethodFormatter('{x:,.0f}')) # format x-axis labels\n",
    "\n",
    "RTs = RT_Fav['retweet_count']\n",
    "fav = RT_Fav['favorite_count']\n",
    "plt.plot(RTs,fav,'o')\n",
    "\n",
    "# calc the trendline\n",
    "z = numpy.polyfit(RTs, fav, 1)\n",
    "p = numpy.poly1d(z)\n",
    "plt.plot(RTs,p(RTs),\"r--\")\n",
    "# the line equation:\n",
    "print(\"y={:.6f}x+{:.6f}\".format(z[0],z[1]))"
   ]
  },
  {
   "cell_type": "markdown",
   "metadata": {},
   "source": [
    "There is a clear positive relationshup between retweets and favorites. If a WeRateDogs tweet were to get no retweets, it could be expected that it would get about 5,200 likes based on the fitted linear relationship. For each additional retweet, the number of favorites is increased by 2.58. Each retweet nearly triples the number of likes that a post gets!\n",
    "\n",
    "WeRateDogs may not be stuck in the dog house after all. If the page focuses on gaining retweets of its content, it can expect more user engagement and impressions to continue to grow and share cute dog photos to brighten everyone's day."
   ]
  }
 ],
 "metadata": {
  "kernelspec": {
   "display_name": "DLP (venv)",
   "language": "python",
   "name": "dlp"
  },
  "language_info": {
   "codemirror_mode": {
    "name": "ipython",
    "version": 3
   },
   "file_extension": ".py",
   "mimetype": "text/x-python",
   "name": "python",
   "nbconvert_exporter": "python",
   "pygments_lexer": "ipython3",
   "version": "3.9.1"
  }
 },
 "nbformat": 4,
 "nbformat_minor": 4
}
